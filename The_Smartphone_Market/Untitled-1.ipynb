{
 "cells": [
  {
   "cell_type": "code",
   "execution_count": null,
   "metadata": {},
   "outputs": [],
   "source": [
    "import pandas as pd\n",
    "import numpy as np"
   ]
  },
  {
   "cell_type": "code",
   "execution_count": null,
   "metadata": {},
   "outputs": [],
   "source": [
    "# Importing all datasets\n",
    "\n",
    "a = pd.read_csv('data/data_1.csv', error_bad_lines=False)\n",
    "b = pd.read_csv('data/data_2.csv', error_bad_lines=False)\n",
    "c = pd.read_csv('data/data_3.csv', error_bad_lines=False) ; c.rename({'Field2':'Time'}, axis=1, inplace=True) # Bug caused while scraping\n",
    "d = pd.read_csv('data/data_4.csv', error_bad_lines=False)"
   ]
  },
  {
   "cell_type": "code",
   "execution_count": null,
   "metadata": {},
   "outputs": [],
   "source": [
    "# Combing all datasframes\n",
    "\n",
    "df = pd.concat([a,b,c,d])\n",
    "df.drop(columns=['Title_URL'], inplace=True)\n",
    "df"
   ]
  },
  {
   "cell_type": "code",
   "execution_count": null,
   "metadata": {},
   "outputs": [],
   "source": [
    "# Dropping all duplicates and NaN values\n",
    "\n",
    "df.drop_duplicates(inplace=True)\n",
    "df.dropna(inplace=True)\n",
    "df"
   ]
  },
  {
   "cell_type": "code",
   "execution_count": null,
   "metadata": {},
   "outputs": [],
   "source": [
    "# Pivot for better understanding\n",
    " \n",
    "df = df.pivot_table(index='Title', columns='Field1', values='Time', aggfunc='first').reset_index()\n",
    "df"
   ]
  },
  {
   "cell_type": "code",
   "execution_count": null,
   "metadata": {},
   "outputs": [],
   "source": [
    "# Fixing and combining dates\n",
    "\n",
    "df.Announced.info() # 95\n",
    "df.Released.info() # 2306\n",
    "df['Expected release'].info() # 92\n",
    "df.fillna('', inplace=True)\n",
    "\n",
    "def clean(col_1,col_2, key): # Source, Destination which will be fixed and has value in Source, Inclusive Pattern\n",
    "    df1 = df.copy(deep=True)\n",
    "    t = df1[[col_1,col_2]]\n",
    "    t = t[t[col_1].str.contains(pat=key)]\n",
    "    df.loc[t.index, [col_2]] = t[col_1]\n",
    "    del df1, t\n",
    "    return df\n",
    "\n",
    "clean('Expected release','Released','20')\n",
    "clean('Announced','Released','20')"
   ]
  },
  {
   "cell_type": "markdown",
   "metadata": {},
   "source": [
    "## Feature Extraction"
   ]
  },
  {
   "cell_type": "code",
   "execution_count": null,
   "metadata": {},
   "outputs": [],
   "source": [
    "df2 = df.copy()\n",
    "df2['Brand'] = df['Title'].str.split(' ').str[0] # Brand\n",
    "df2['Model'] = df['Title'].str.split(' ', 1).str[1] # Model\n",
    "df2['Processor'] = df['Hardware'].str.split('\\n').str[0] # CPU\n",
    "df2['Memory'] = df['Hardware'].str.split('\\n').str[1] # Memory\n",
    "df2['OS'] = df['OS'].str.split('\\n').str[0] # Display size\n",
    "df2['Battery'] = df2['Battery'].str.replace(' mAh','') # change to regex keep numbers only\n",
    "df2['Display_Size'] = df['Display'].str.split('\\n').str[0] # Display size\n",
    "df2['Display_Resolution'] = df['Display'].str.split('\\n').str[1] # Display res\n",
    "df2['Display_Refresh_Rate'] = df['Display'].str.split('\\n').str[2] # Display Refresh Rate\n",
    "df2['Primary_Camera'] = df['Camera'].str.split('\\n').str[0] # Rear Camera\n",
    "df2['Front_Camera'] = df['Camera'].str.split('\\n').str[1] # Front Camera\n",
    "df2['Primary_Storage'] = df['Storage'].str.split(',').str[0] # Internal Storage\n",
    "df2['External_Storage'] = df['Storage'].str.split(',').str[1] # External Storage\n",
    "df2.drop(columns=['Title','Display','Hardware','Camera','Storage'], inplace=True)\n"
   ]
  },
  {
   "cell_type": "markdown",
   "metadata": {},
   "source": [
    "## Feature Formatting"
   ]
  },
  {
   "cell_type": "code",
   "execution_count": null,
   "metadata": {},
   "outputs": [],
   "source": [
    "# Keeping numbers only\n",
    "df2.Primary_Storage = df2.Primary_Storage.str.extract('(\\d+)')\n",
    "df2.Primary_Camera = df2.Primary_Camera.str.extract('(\\d+)')\n",
    "df2.Display_Refresh_Rate = df2.Display_Refresh_Rate.str.extract('(\\d+)')\n",
    "\n",
    "# Removing unnecessary characters and keeping the decimals\n",
    "df2.Front_Camera = df2.Front_Camera.str.replace('MP VGA front', '')\n",
    "df2.Front_Camera = df2.Front_Camera.str.replace('MP front', '')\n",
    "df2.Front_Camera = df2.Front_Camera.str.replace('Other front', '')\n",
    "df2.Front_Camera = df2.Front_Camera.str.replace('front', '')\n",
    "\n",
    "df2.Display_Resolution = df2.Display_Resolution.str.replace('pixels', '')\n",
    "df2.Display_Size = df2.Display_Size.str.replace('inches', '')\n",
    "df2.Memory = df2.Memory.str.replace('GB RAM', '')\n",
    "df2.Memory = df2.Memory.str.replace(' ','')\n",
    "\n",
    "# Fixing spelling mistakes\n",
    "df2.External_Storage = df2.External_Storage.str.replace('9microSDXC','microSDXC')\n",
    "df2.External_Storage = df2.External_Storage.str.replace('not expandablemicroSDXC','microSDXC')\n",
    "\n",
    "df2.rename({'Released':'Release_Date'}, axis=1, inplace=True)\n",
    "\n",
    "# Replacing Yearly quater values for Date-time interpretation\n",
    "\n",
    "df2.Release_Date = df2.Release_Date.str.replace('Q1','Feb')\n",
    "df2.Release_Date = df2.Release_Date.str.replace('Q2','Jun')\n",
    "df2.Release_Date = df2.Release_Date.str.replace('Q3','Sep')\n",
    "df2.Release_Date = df2.Release_Date.str.replace('Q4','Nov')"
   ]
  },
  {
   "cell_type": "code",
   "execution_count": null,
   "metadata": {},
   "outputs": [],
   "source": [
    "#df2.fillna('Not Specified', inplace=True)\n",
    "\n",
    "df2[['Brand', 'Model', 'OS', 'Release_Date','Battery', 'Processor', 'Memory', 'Primary_Storage', 'External_Storage', 'Display_Size',\n",
    "    'Display_Resolution','Display_Refresh_Rate','Primary_Camera','Front_Camera',]].to_csv('processed.csv')"
   ]
  }
 ],
 "metadata": {
  "kernelspec": {
   "display_name": "Python 3.8.5 32-bit",
   "language": "python",
   "name": "python3"
  },
  "language_info": {
   "codemirror_mode": {
    "name": "ipython",
    "version": 3
   },
   "file_extension": ".py",
   "mimetype": "text/x-python",
   "name": "python",
   "nbconvert_exporter": "python",
   "pygments_lexer": "ipython3",
   "version": "3.8.5"
  },
  "orig_nbformat": 4,
  "vscode": {
   "interpreter": {
    "hash": "298c87bb46c0ece7abcceec7d9fcd87435e079314f0dee0953f90f5b1b40d0e0"
   }
  }
 },
 "nbformat": 4,
 "nbformat_minor": 2
}
